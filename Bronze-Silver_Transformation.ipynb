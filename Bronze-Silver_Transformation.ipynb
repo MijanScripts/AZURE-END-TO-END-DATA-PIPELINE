{
 "cells": [
  {
   "cell_type": "code",
   "execution_count": 0,
   "metadata": {
    "application/vnd.databricks.v1+cell": {
     "cellMetadata": {
      "byteLimit": 2048000,
      "rowLimit": 10000
     },
     "inputWidgets": {},
     "nuid": "4c3d246e-3890-48aa-bca8-5f35a9dfef6b",
     "showTitle": false,
     "title": ""
    }
   },
   "outputs": [
    {
     "output_type": "stream",
     "name": "stdout",
     "output_type": "stream",
     "text": [
      "Out[2]: [FileInfo(path='dbfs:/mnt/bronze/etl/', name='etl/', size=0, modificationTime=0)]"
     ]
    }
   ],
   "source": [
    "dbutils.fs.ls(\"/mnt/bronze\")"
   ]
  },
  {
   "cell_type": "code",
   "execution_count": 0,
   "metadata": {
    "application/vnd.databricks.v1+cell": {
     "cellMetadata": {
      "byteLimit": 2048000,
      "rowLimit": 10000
     },
     "inputWidgets": {},
     "nuid": "d266fd1b-f412-413c-b64a-fde4bc942b0c",
     "showTitle": false,
     "title": ""
    }
   },
   "outputs": [
    {
     "output_type": "display_data",
     "data": {
      "text/html": [
       "<style scoped>\n",
       "  .table-result-container {\n",
       "    max-height: 300px;\n",
       "    overflow: auto;\n",
       "  }\n",
       "  table, th, td {\n",
       "    border: 1px solid black;\n",
       "    border-collapse: collapse;\n",
       "  }\n",
       "  th, td {\n",
       "    padding: 5px;\n",
       "  }\n",
       "  th {\n",
       "    text-align: left;\n",
       "  }\n",
       "</style><div class='table-result-container'><table class='table-result'><thead style='background-color: white'><tr><th>path</th><th>name</th><th>size</th><th>modificationTime</th></tr></thead><tbody><tr><td>dbfs:/mnt/bronze/etl/car_price/car_price.parquet</td><td>car_price.parquet</td><td>197984</td><td>1692740467000</td></tr></tbody></table></div>"
      ]
     },
     "metadata": {
      "application/vnd.databricks.v1+output": {
       "addedWidgets": {},
       "aggData": [],
       "aggError": "",
       "aggOverflow": false,
       "aggSchema": [],
       "aggSeriesLimitReached": false,
       "aggType": "",
       "arguments": {},
       "columnCustomDisplayInfos": {},
       "data": [
        [
         "dbfs:/mnt/bronze/etl/car_price/car_price.parquet",
         "car_price.parquet",
         197984,
         1692740467000
        ]
       ],
       "datasetInfos": [],
       "dbfsResultPath": null,
       "isJsonSchema": true,
       "metadata": {
        "isDbfsCommandResult": false
       },
       "overflow": false,
       "plotOptions": {
        "customPlotOptions": {},
        "displayType": "table",
        "pivotAggregation": null,
        "pivotColumns": null,
        "xColumns": null,
        "yColumns": null
       },
       "removedWidgets": [],
       "schema": [
        {
         "metadata": "{}",
         "name": "path",
         "type": "\"string\""
        },
        {
         "metadata": "{}",
         "name": "name",
         "type": "\"string\""
        },
        {
         "metadata": "{}",
         "name": "size",
         "type": "\"long\""
        },
        {
         "metadata": "{}",
         "name": "modificationTime",
         "type": "\"long\""
        }
       ],
       "type": "table"
      }
     },
     "output_type": "display_data"
    }
   ],
   "source": [
    "%fs ls dbfs:/mnt/bronze/etl/car_price/"
   ]
  },
  {
   "cell_type": "code",
   "execution_count": 0,
   "metadata": {
    "application/vnd.databricks.v1+cell": {
     "cellMetadata": {
      "byteLimit": 2048000,
      "rowLimit": 10000
     },
     "inputWidgets": {},
     "nuid": "44c2fa34-041f-4850-ac3e-c56d6b25b06c",
     "showTitle": false,
     "title": ""
    }
   },
   "outputs": [],
   "source": [
    "file_path = \"/mnt/bronze/etl/car_price/car_price.parquet\""
   ]
  },
  {
   "cell_type": "code",
   "execution_count": 0,
   "metadata": {
    "application/vnd.databricks.v1+cell": {
     "cellMetadata": {
      "byteLimit": 2048000,
      "rowLimit": 10000
     },
     "inputWidgets": {},
     "nuid": "8c652a0d-9f4b-47d5-9aa2-baf704c28365",
     "showTitle": false,
     "title": ""
    }
   },
   "outputs": [],
   "source": [
    "#Read the data from ADLS-GEN-2 into a spark dataframe\n",
    "\n",
    "spark_DF = spark.read.parquet(file_path)"
   ]
  },
  {
   "cell_type": "code",
   "execution_count": 0,
   "metadata": {
    "application/vnd.databricks.v1+cell": {
     "cellMetadata": {
      "byteLimit": 2048000,
      "rowLimit": 10000
     },
     "inputWidgets": {},
     "nuid": "012473e9-6668-47f1-a215-306ce059f7b2",
     "showTitle": false,
     "title": ""
    }
   },
   "outputs": [
    {
     "output_type": "stream",
     "name": "stdout",
     "output_type": "stream",
     "text": [
      "+--------------------+-------+---------+---------+------+-------+-----------------+------+-------------+-------+-----------+-----------------+----------------+-----+--------------------+----------+-----+-------------------+-----------+---------------+\n|              car_id|  price|fuel_type|gear_type|  make|  model|year_manufactured|colour|    condition|mileage|engine_size|selling_condition|bought_condition|  car|                trim|drivetrain|seats|number_of_cylinders|horse_power|registered_city|\n+--------------------+-------+---------+---------+------+-------+-----------------+------+-------------+-------+-----------+-----------------+----------------+-----+--------------------+----------+-----+-------------------+-----------+---------------+\n|icwAaDOmX573WiRRn...|2812500|   Petrol|Automatic|Toyota|Corolla|             2004|Silver|Nigerian Used| 251732|       1800|       Registered|      Registered| null|                null|      null| null|               null|       null|           null|\n|ByZ3NlPy2x0arAIyr...|5000000|   Petrol|Automatic| Acura|    MDX|             2007| Green| Foreign Used| 224589|       3700|         Imported|        Imported|  SUV|                null|      null| null|               null|       null|           null|\n|2zG6Mh3kwyoTvWoeK...|7592000|   Petrol|Automatic| Acura|     TL|             2012| White| Foreign Used| 111334|       3500|         Imported|        Imported|Sedan|SH-AWD Automatic ...| All Wheel|    5|                  6|        309|           null|\n+--------------------+-------+---------+---------+------+-------+-----------------+------+-------------+-------+-----------+-----------------+----------------+-----+--------------------+----------+-----+-------------------+-----------+---------------+\nonly showing top 3 rows\n\n"
     ]
    }
   ],
   "source": [
    "spark_DF.show(3)"
   ]
  },
  {
   "cell_type": "code",
   "execution_count": 0,
   "metadata": {
    "application/vnd.databricks.v1+cell": {
     "cellMetadata": {
      "byteLimit": 2048000,
      "rowLimit": 10000
     },
     "inputWidgets": {},
     "nuid": "795083b0-bf02-4add-987b-9836d1a1ba71",
     "showTitle": false,
     "title": ""
    }
   },
   "outputs": [],
   "source": [
    "spark_DF.createOrReplaceTempView('car_price_table')"
   ]
  },
  {
   "cell_type": "code",
   "execution_count": 0,
   "metadata": {
    "application/vnd.databricks.v1+cell": {
     "cellMetadata": {
      "byteLimit": 2048000,
      "implicitDf": true,
      "rowLimit": 10000
     },
     "inputWidgets": {},
     "nuid": "534bf710-5627-41a3-b189-dd3934f0666c",
     "showTitle": false,
     "title": ""
    }
   },
   "outputs": [
    {
     "output_type": "display_data",
     "data": {
      "text/html": [
       "<style scoped>\n",
       "  .table-result-container {\n",
       "    max-height: 300px;\n",
       "    overflow: auto;\n",
       "  }\n",
       "  table, th, td {\n",
       "    border: 1px solid black;\n",
       "    border-collapse: collapse;\n",
       "  }\n",
       "  th, td {\n",
       "    padding: 5px;\n",
       "  }\n",
       "  th {\n",
       "    text-align: left;\n",
       "  }\n",
       "</style><div class='table-result-container'><table class='table-result'><thead style='background-color: white'><tr><th>car_id</th><th>price</th><th>fuel_type</th><th>gear_type</th><th>make</th><th>model</th><th>year_manufactured</th><th>colour</th><th>condition</th><th>mileage</th><th>engine_size</th><th>selling_condition</th><th>bought_condition</th><th>car</th><th>trim</th><th>drivetrain</th><th>seats</th><th>number_of_cylinders</th><th>horse_power</th><th>registered_city</th></tr></thead><tbody><tr><td>icwAaDOmX573WiRRnLFPT237</td><td>2812500</td><td>Petrol</td><td>Automatic</td><td>Toyota</td><td>Corolla</td><td>2004</td><td>Silver</td><td>Nigerian Used</td><td>251732</td><td>1800</td><td>Registered</td><td>Registered</td><td>null</td><td>null</td><td>null</td><td>null</td><td>null</td><td>null</td><td>null</td></tr><tr><td>ByZ3NlPy2x0arAIyrKazClUS</td><td>5000000</td><td>Petrol</td><td>Automatic</td><td>Acura</td><td>MDX</td><td>2007</td><td>Green</td><td>Foreign Used</td><td>224589</td><td>3700</td><td>Imported</td><td>Imported</td><td>SUV</td><td>null</td><td>null</td><td>null</td><td>null</td><td>null</td><td>null</td></tr><tr><td>2zG6Mh3kwyoTvWoeKHkV1oFH</td><td>7592000</td><td>Petrol</td><td>Automatic</td><td>Acura</td><td>TL</td><td>2012</td><td>White</td><td>Foreign Used</td><td>111334</td><td>3500</td><td>Imported</td><td>Imported</td><td>Sedan</td><td>SH-AWD Automatic Tech Package</td><td>All Wheel</td><td>5</td><td>6</td><td>309</td><td>null</td></tr><tr><td>7APLHOPlI93qsYK0ST4D4wB2</td><td>9880000</td><td>Petrol</td><td>Automatic</td><td>Land Rover</td><td>Range Rover</td><td>2012</td><td>Gray</td><td>Nigerian Used</td><td>72682</td><td>4000</td><td>Registered</td><td>Imported</td><td>SUV</td><td>null</td><td>null</td><td>null</td><td>null</td><td>null</td><td>null</td></tr><tr><td>zIrIDPJLd46eRQf9JFacc0e</td><td>4160000</td><td>Petrol</td><td>Automatic</td><td>Ford</td><td>Edge</td><td>2013</td><td>Gray</td><td>Nigerian Used</td><td>92118</td><td>3500</td><td>Registered</td><td>Registered</td><td>SUV</td><td>null</td><td>null</td><td>null</td><td>null</td><td>null</td><td>Lagos</td></tr></tbody></table></div>"
      ]
     },
     "metadata": {
      "application/vnd.databricks.v1+output": {
       "addedWidgets": {},
       "aggData": [],
       "aggError": "",
       "aggOverflow": false,
       "aggSchema": [],
       "aggSeriesLimitReached": false,
       "aggType": "",
       "arguments": {},
       "columnCustomDisplayInfos": {},
       "data": [
        [
         "icwAaDOmX573WiRRnLFPT237",
         2812500,
         "Petrol",
         "Automatic",
         "Toyota",
         "Corolla",
         2004,
         "Silver",
         "Nigerian Used",
         251732,
         1800,
         "Registered",
         "Registered",
         null,
         null,
         null,
         null,
         null,
         null,
         null
        ],
        [
         "ByZ3NlPy2x0arAIyrKazClUS",
         5000000,
         "Petrol",
         "Automatic",
         "Acura",
         "MDX",
         2007,
         "Green",
         "Foreign Used",
         224589,
         3700,
         "Imported",
         "Imported",
         "SUV",
         null,
         null,
         null,
         null,
         null,
         null
        ],
        [
         "2zG6Mh3kwyoTvWoeKHkV1oFH",
         7592000,
         "Petrol",
         "Automatic",
         "Acura",
         "TL",
         2012,
         "White",
         "Foreign Used",
         111334,
         3500,
         "Imported",
         "Imported",
         "Sedan",
         "SH-AWD Automatic Tech Package",
         "All Wheel",
         5,
         6,
         309,
         null
        ],
        [
         "7APLHOPlI93qsYK0ST4D4wB2",
         9880000,
         "Petrol",
         "Automatic",
         "Land Rover",
         "Range Rover",
         2012,
         "Gray",
         "Nigerian Used",
         72682,
         4000,
         "Registered",
         "Imported",
         "SUV",
         null,
         null,
         null,
         null,
         null,
         null
        ],
        [
         "zIrIDPJLd46eRQf9JFacc0e",
         4160000,
         "Petrol",
         "Automatic",
         "Ford",
         "Edge",
         2013,
         "Gray",
         "Nigerian Used",
         92118,
         3500,
         "Registered",
         "Registered",
         "SUV",
         null,
         null,
         null,
         null,
         null,
         "Lagos"
        ]
       ],
       "datasetInfos": [],
       "dbfsResultPath": null,
       "isJsonSchema": true,
       "metadata": {},
       "overflow": false,
       "plotOptions": {
        "customPlotOptions": {},
        "displayType": "table",
        "pivotAggregation": null,
        "pivotColumns": null,
        "xColumns": null,
        "yColumns": null
       },
       "removedWidgets": [],
       "schema": [
        {
         "metadata": "{}",
         "name": "car_id",
         "type": "\"string\""
        },
        {
         "metadata": "{}",
         "name": "price",
         "type": "\"integer\""
        },
        {
         "metadata": "{}",
         "name": "fuel_type",
         "type": "\"string\""
        },
        {
         "metadata": "{}",
         "name": "gear_type",
         "type": "\"string\""
        },
        {
         "metadata": "{}",
         "name": "make",
         "type": "\"string\""
        },
        {
         "metadata": "{}",
         "name": "model",
         "type": "\"string\""
        },
        {
         "metadata": "{}",
         "name": "year_manufactured",
         "type": "\"integer\""
        },
        {
         "metadata": "{}",
         "name": "colour",
         "type": "\"string\""
        },
        {
         "metadata": "{}",
         "name": "condition",
         "type": "\"string\""
        },
        {
         "metadata": "{}",
         "name": "mileage",
         "type": "\"integer\""
        },
        {
         "metadata": "{}",
         "name": "engine_size",
         "type": "\"integer\""
        },
        {
         "metadata": "{}",
         "name": "selling_condition",
         "type": "\"string\""
        },
        {
         "metadata": "{}",
         "name": "bought_condition",
         "type": "\"string\""
        },
        {
         "metadata": "{}",
         "name": "car",
         "type": "\"string\""
        },
        {
         "metadata": "{}",
         "name": "trim",
         "type": "\"string\""
        },
        {
         "metadata": "{}",
         "name": "drivetrain",
         "type": "\"string\""
        },
        {
         "metadata": "{}",
         "name": "seats",
         "type": "\"integer\""
        },
        {
         "metadata": "{}",
         "name": "number_of_cylinders",
         "type": "\"integer\""
        },
        {
         "metadata": "{}",
         "name": "horse_power",
         "type": "\"integer\""
        },
        {
         "metadata": "{}",
         "name": "registered_city",
         "type": "\"string\""
        }
       ],
       "type": "table"
      }
     },
     "output_type": "display_data"
    }
   ],
   "source": [
    "%sql\n",
    "\n",
    "SELECT * FROM car_price_table LIMIT 5"
   ]
  },
  {
   "cell_type": "markdown",
   "metadata": {
    "application/vnd.databricks.v1+cell": {
     "cellMetadata": {},
     "inputWidgets": {},
     "nuid": "2bf8d012-b59a-46ee-b826-4ef029247626",
     "showTitle": false,
     "title": ""
    }
   },
   "source": [
    "## Perform Transformation on the Table"
   ]
  },
  {
   "cell_type": "code",
   "execution_count": 0,
   "metadata": {
    "application/vnd.databricks.v1+cell": {
     "cellMetadata": {
      "byteLimit": 2048000,
      "rowLimit": 10000
     },
     "inputWidgets": {},
     "nuid": "08e41201-ce85-4a54-93d3-645c8b6c19df",
     "showTitle": false,
     "title": ""
    }
   },
   "outputs": [
    {
     "output_type": "display_data",
     "data": {
      "text/html": [
       "<style scoped>\n",
       "  .table-result-container {\n",
       "    max-height: 300px;\n",
       "    overflow: auto;\n",
       "  }\n",
       "  table, th, td {\n",
       "    border: 1px solid black;\n",
       "    border-collapse: collapse;\n",
       "  }\n",
       "  th, td {\n",
       "    padding: 5px;\n",
       "  }\n",
       "  th {\n",
       "    text-align: left;\n",
       "  }\n",
       "</style><div class='table-result-container'><table class='table-result'><thead style='background-color: white'><tr><th>summary</th><th>car_id</th><th>price</th><th>fuel_type</th><th>gear_type</th><th>make</th><th>model</th><th>year_manufactured</th><th>colour</th><th>condition</th><th>mileage</th><th>engine_size</th><th>selling_condition</th><th>bought_condition</th><th>car</th><th>trim</th><th>drivetrain</th><th>seats</th><th>number_of_cylinders</th><th>horse_power</th><th>registered_city</th></tr></thead><tbody><tr><td>count</td><td>3722</td><td>3722</td><td>3721</td><td>3720</td><td>3722</td><td>3722</td><td>3722</td><td>3717</td><td>3722</td><td>3663</td><td>3661</td><td>3722</td><td>3722</td><td>1767</td><td>879</td><td>838</td><td>788</td><td>826</td><td>755</td><td>1901</td></tr><tr><td>mean</td><td>null</td><td>4514644.057227297</td><td>null</td><td>null</td><td>null</td><td>259.85897435897436</td><td>2008.1458893068243</td><td>null</td><td>null</td><td>194984.14387114387</td><td>11080.622780661022</td><td>null</td><td>null</td><td>null</td><td>178.5752293577982</td><td>null</td><td>5.285532994923858</td><td>5.157384987893463</td><td>208.8317880794702</td><td>0.0</td></tr><tr><td>stddev</td><td>null</td><td>4297011.880107726</td><td>null</td><td>null</td><td>null</td><td>192.0542891563476</td><td>4.205669958219907</td><td>null</td><td>null</td><td>139575.5136287561</td><td>109112.70744888122</td><td>null</td><td>null</td><td>null</td><td>176.4195730910344</td><td>null</td><td>0.800853322015107</td><td>1.2027947010262343</td><td>70.94092544714373</td><td>0.0</td></tr><tr><td>min</td><td>10pgkeim9sa8K2pg06xSwLBx</td><td>550000</td><td>Diesel</td><td>Automatic</td><td>Acura</td><td>116i</td><td>1979</td><td>Beige</td><td>Brand New</td><td>1</td><td>180</td><td>Brand new</td><td>Brand new</td><td>Bus</td><td>1.4</td><td>4x2</td><td>2</td><td>4</td><td>83</td><td>0</td></tr><tr><td>max</td><td>zwrhlFXF8Wgt3VJu3aHnrorN</td><td>62400000</td><td>Petrol</td><td>Manual</td><td>Volvo</td><td>xB</td><td>2022</td><td>Yellow</td><td>Nigerian Used</td><td>2456318</td><td>3500000</td><td>Registered</td><td>Registered</td><td>Van</td><td>xDrive 35i</td><td>Rear Wheel</td><td>8</td><td>8</td><td>585</td><td>yobe</td></tr></tbody></table></div>"
      ]
     },
     "metadata": {
      "application/vnd.databricks.v1+output": {
       "addedWidgets": {},
       "aggData": [],
       "aggError": "",
       "aggOverflow": false,
       "aggSchema": [],
       "aggSeriesLimitReached": false,
       "aggType": "",
       "arguments": {},
       "columnCustomDisplayInfos": {},
       "data": [
        [
         "count",
         "3722",
         "3722",
         "3721",
         "3720",
         "3722",
         "3722",
         "3722",
         "3717",
         "3722",
         "3663",
         "3661",
         "3722",
         "3722",
         "1767",
         "879",
         "838",
         "788",
         "826",
         "755",
         "1901"
        ],
        [
         "mean",
         null,
         "4514644.057227297",
         null,
         null,
         null,
         "259.85897435897436",
         "2008.1458893068243",
         null,
         null,
         "194984.14387114387",
         "11080.622780661022",
         null,
         null,
         null,
         "178.5752293577982",
         null,
         "5.285532994923858",
         "5.157384987893463",
         "208.8317880794702",
         "0.0"
        ],
        [
         "stddev",
         null,
         "4297011.880107726",
         null,
         null,
         null,
         "192.0542891563476",
         "4.205669958219907",
         null,
         null,
         "139575.5136287561",
         "109112.70744888122",
         null,
         null,
         null,
         "176.4195730910344",
         null,
         "0.800853322015107",
         "1.2027947010262343",
         "70.94092544714373",
         "0.0"
        ],
        [
         "min",
         "10pgkeim9sa8K2pg06xSwLBx",
         "550000",
         "Diesel",
         "Automatic",
         "Acura",
         "116i",
         "1979",
         "Beige",
         "Brand New",
         "1",
         "180",
         "Brand new",
         "Brand new",
         "Bus",
         "1.4",
         "4x2",
         "2",
         "4",
         "83",
         "0"
        ],
        [
         "max",
         "zwrhlFXF8Wgt3VJu3aHnrorN",
         "62400000",
         "Petrol",
         "Manual",
         "Volvo",
         "xB",
         "2022",
         "Yellow",
         "Nigerian Used",
         "2456318",
         "3500000",
         "Registered",
         "Registered",
         "Van",
         "xDrive 35i",
         "Rear Wheel",
         "8",
         "8",
         "585",
         "yobe"
        ]
       ],
       "datasetInfos": [],
       "dbfsResultPath": null,
       "isJsonSchema": true,
       "metadata": {},
       "overflow": false,
       "plotOptions": {
        "customPlotOptions": {},
        "displayType": "table",
        "pivotAggregation": null,
        "pivotColumns": null,
        "xColumns": null,
        "yColumns": null
       },
       "removedWidgets": [],
       "schema": [
        {
         "metadata": "{}",
         "name": "summary",
         "type": "\"string\""
        },
        {
         "metadata": "{}",
         "name": "car_id",
         "type": "\"string\""
        },
        {
         "metadata": "{}",
         "name": "price",
         "type": "\"string\""
        },
        {
         "metadata": "{}",
         "name": "fuel_type",
         "type": "\"string\""
        },
        {
         "metadata": "{}",
         "name": "gear_type",
         "type": "\"string\""
        },
        {
         "metadata": "{}",
         "name": "make",
         "type": "\"string\""
        },
        {
         "metadata": "{}",
         "name": "model",
         "type": "\"string\""
        },
        {
         "metadata": "{}",
         "name": "year_manufactured",
         "type": "\"string\""
        },
        {
         "metadata": "{}",
         "name": "colour",
         "type": "\"string\""
        },
        {
         "metadata": "{}",
         "name": "condition",
         "type": "\"string\""
        },
        {
         "metadata": "{}",
         "name": "mileage",
         "type": "\"string\""
        },
        {
         "metadata": "{}",
         "name": "engine_size",
         "type": "\"string\""
        },
        {
         "metadata": "{}",
         "name": "selling_condition",
         "type": "\"string\""
        },
        {
         "metadata": "{}",
         "name": "bought_condition",
         "type": "\"string\""
        },
        {
         "metadata": "{}",
         "name": "car",
         "type": "\"string\""
        },
        {
         "metadata": "{}",
         "name": "trim",
         "type": "\"string\""
        },
        {
         "metadata": "{}",
         "name": "drivetrain",
         "type": "\"string\""
        },
        {
         "metadata": "{}",
         "name": "seats",
         "type": "\"string\""
        },
        {
         "metadata": "{}",
         "name": "number_of_cylinders",
         "type": "\"string\""
        },
        {
         "metadata": "{}",
         "name": "horse_power",
         "type": "\"string\""
        },
        {
         "metadata": "{}",
         "name": "registered_city",
         "type": "\"string\""
        }
       ],
       "type": "table"
      }
     },
     "output_type": "display_data"
    }
   ],
   "source": [
    "display(spark_DF.describe())"
   ]
  },
  {
   "cell_type": "code",
   "execution_count": 0,
   "metadata": {
    "application/vnd.databricks.v1+cell": {
     "cellMetadata": {
      "byteLimit": 2048000,
      "rowLimit": 10000
     },
     "inputWidgets": {},
     "nuid": "39eeb68e-46a3-498b-8e12-4812986a40b2",
     "showTitle": false,
     "title": ""
    }
   },
   "outputs": [
    {
     "output_type": "stream",
     "name": "stdout",
     "output_type": "stream",
     "text": [
      "root\n |-- car_id: string (nullable = true)\n |-- price: integer (nullable = true)\n |-- fuel_type: string (nullable = true)\n |-- gear_type: string (nullable = true)\n |-- make: string (nullable = true)\n |-- model: string (nullable = true)\n |-- year_manufactured: integer (nullable = true)\n |-- colour: string (nullable = true)\n |-- condition: string (nullable = true)\n |-- mileage: integer (nullable = true)\n |-- engine_size: integer (nullable = true)\n |-- selling_condition: string (nullable = true)\n |-- bought_condition: string (nullable = true)\n |-- car: string (nullable = true)\n |-- trim: string (nullable = true)\n |-- drivetrain: string (nullable = true)\n |-- seats: integer (nullable = true)\n |-- number_of_cylinders: integer (nullable = true)\n |-- horse_power: integer (nullable = true)\n |-- registered_city: string (nullable = true)\n\n"
     ]
    }
   ],
   "source": [
    "spark_DF.printSchema()"
   ]
  },
  {
   "cell_type": "code",
   "execution_count": 0,
   "metadata": {
    "application/vnd.databricks.v1+cell": {
     "cellMetadata": {
      "byteLimit": 2048000,
      "rowLimit": 10000
     },
     "inputWidgets": {},
     "nuid": "19994dcb-1388-42d0-a082-d72f4ef15831",
     "showTitle": false,
     "title": ""
    }
   },
   "outputs": [
    {
     "output_type": "display_data",
     "data": {
      "application/vnd.databricks.v1+bamboolib_hint": "{\"pd.DataFrames\": [], \"version\": \"0.0.1\"}",
      "text/plain": []
     },
     "metadata": {},
     "output_type": "display_data"
    }
   ],
   "source": [
    "#Using Pandas to check for columns with null values\n",
    "\n",
    "\n",
    "pd_df = spark_DF.toPandas()"
   ]
  },
  {
   "cell_type": "code",
   "execution_count": 0,
   "metadata": {
    "application/vnd.databricks.v1+cell": {
     "cellMetadata": {
      "byteLimit": 2048000,
      "rowLimit": 10000
     },
     "inputWidgets": {},
     "nuid": "5cd74410-f169-4f35-b6a4-57010f88fef7",
     "showTitle": false,
     "title": ""
    }
   },
   "outputs": [
    {
     "output_type": "stream",
     "name": "stdout",
     "output_type": "stream",
     "text": [
      "<class 'pandas.core.frame.DataFrame'>\nRangeIndex: 3722 entries, 0 to 3721\nData columns (total 20 columns):\n #   Column               Non-Null Count  Dtype  \n---  ------               --------------  -----  \n 0   car_id               3722 non-null   object \n 1   price                3722 non-null   int32  \n 2   fuel_type            3721 non-null   object \n 3   gear_type            3720 non-null   object \n 4   make                 3722 non-null   object \n 5   model                3722 non-null   object \n 6   year_manufactured    3722 non-null   int32  \n 7   colour               3717 non-null   object \n 8   condition            3722 non-null   object \n 9   mileage              3663 non-null   float64\n 10  engine_size          3661 non-null   float64\n 11  selling_condition    3722 non-null   object \n 12  bought_condition     3722 non-null   object \n 13  car                  1767 non-null   object \n 14  trim                 879 non-null    object \n 15  drivetrain           838 non-null    object \n 16  seats                788 non-null    float64\n 17  number_of_cylinders  826 non-null    float64\n 18  horse_power          755 non-null    float64\n 19  registered_city      1901 non-null   object \ndtypes: float64(5), int32(2), object(13)\nmemory usage: 552.6+ KB\n"
     ]
    }
   ],
   "source": [
    "pd_df.info()"
   ]
  },
  {
   "cell_type": "code",
   "execution_count": 0,
   "metadata": {
    "application/vnd.databricks.v1+cell": {
     "cellMetadata": {
      "byteLimit": 2048000,
      "rowLimit": 10000
     },
     "inputWidgets": {},
     "nuid": "92d2b994-6495-42bd-8ad3-381158c56685",
     "showTitle": false,
     "title": ""
    }
   },
   "outputs": [],
   "source": [
    "#columns to drop\n",
    "cols = ('car','trim','drivetrain','seats','number_of_cylinders','horse_power')"
   ]
  },
  {
   "cell_type": "code",
   "execution_count": 0,
   "metadata": {
    "application/vnd.databricks.v1+cell": {
     "cellMetadata": {
      "byteLimit": 2048000,
      "rowLimit": 10000
     },
     "inputWidgets": {},
     "nuid": "5cd6552e-8130-4a2f-b9a0-53513aecdd40",
     "showTitle": false,
     "title": ""
    }
   },
   "outputs": [],
   "source": [
    "spark_DF_T = spark_DF.drop(*cols)"
   ]
  },
  {
   "cell_type": "code",
   "execution_count": 0,
   "metadata": {
    "application/vnd.databricks.v1+cell": {
     "cellMetadata": {
      "byteLimit": 2048000,
      "rowLimit": 10000
     },
     "inputWidgets": {},
     "nuid": "12fde146-aa76-4fc5-b62e-7b41ed763dc8",
     "showTitle": false,
     "title": ""
    }
   },
   "outputs": [],
   "source": [
    "pd_df = spark_DF_T.toPandas()"
   ]
  },
  {
   "cell_type": "code",
   "execution_count": 0,
   "metadata": {
    "application/vnd.databricks.v1+cell": {
     "cellMetadata": {
      "byteLimit": 2048000,
      "rowLimit": 10000
     },
     "inputWidgets": {},
     "nuid": "31c8b5ca-70e8-483f-b1e4-56adbcb05443",
     "showTitle": false,
     "title": ""
    }
   },
   "outputs": [
    {
     "output_type": "stream",
     "name": "stdout",
     "output_type": "stream",
     "text": [
      "Out[25]: ['fuel_type',\n 'gear_type',\n 'colour',\n 'mileage',\n 'engine_size',\n 'registered_city']"
     ]
    }
   ],
   "source": [
    "pd_df.columns[pd_df.isna().any()].tolist()"
   ]
  },
  {
   "cell_type": "code",
   "execution_count": 0,
   "metadata": {
    "application/vnd.databricks.v1+cell": {
     "cellMetadata": {
      "byteLimit": 2048000,
      "rowLimit": 10000
     },
     "inputWidgets": {},
     "nuid": "ec607297-0b39-4e27-9e5b-2e14798960dc",
     "showTitle": false,
     "title": ""
    }
   },
   "outputs": [
    {
     "output_type": "display_data",
     "data": {
      "text/html": [
       "<div>\n",
       "<style scoped>\n",
       "    .dataframe tbody tr th:only-of-type {\n",
       "        vertical-align: middle;\n",
       "    }\n",
       "\n",
       "    .dataframe tbody tr th {\n",
       "        vertical-align: top;\n",
       "    }\n",
       "\n",
       "    .dataframe thead th {\n",
       "        text-align: right;\n",
       "    }\n",
       "</style>\n",
       "<table border=\"1\" class=\"dataframe\">\n",
       "  <thead>\n",
       "    <tr style=\"text-align: right;\">\n",
       "      <th></th>\n",
       "      <th>car_id</th>\n",
       "      <th>price</th>\n",
       "      <th>fuel_type</th>\n",
       "      <th>gear_type</th>\n",
       "      <th>make</th>\n",
       "      <th>model</th>\n",
       "      <th>year_manufactured</th>\n",
       "      <th>colour</th>\n",
       "      <th>condition</th>\n",
       "      <th>mileage</th>\n",
       "      <th>engine_size</th>\n",
       "      <th>selling_condition</th>\n",
       "      <th>bought_condition</th>\n",
       "      <th>registered_city</th>\n",
       "    </tr>\n",
       "  </thead>\n",
       "  <tbody>\n",
       "    <tr>\n",
       "      <th>0</th>\n",
       "      <td>icwAaDOmX573WiRRnLFPT237</td>\n",
       "      <td>2812500</td>\n",
       "      <td>Petrol</td>\n",
       "      <td>Automatic</td>\n",
       "      <td>Toyota</td>\n",
       "      <td>Corolla</td>\n",
       "      <td>2004</td>\n",
       "      <td>Silver</td>\n",
       "      <td>Nigerian Used</td>\n",
       "      <td>251732.0</td>\n",
       "      <td>1800.0</td>\n",
       "      <td>Registered</td>\n",
       "      <td>Registered</td>\n",
       "      <td>None</td>\n",
       "    </tr>\n",
       "    <tr>\n",
       "      <th>1</th>\n",
       "      <td>ByZ3NlPy2x0arAIyrKazClUS</td>\n",
       "      <td>5000000</td>\n",
       "      <td>Petrol</td>\n",
       "      <td>Automatic</td>\n",
       "      <td>Acura</td>\n",
       "      <td>MDX</td>\n",
       "      <td>2007</td>\n",
       "      <td>Green</td>\n",
       "      <td>Foreign Used</td>\n",
       "      <td>224589.0</td>\n",
       "      <td>3700.0</td>\n",
       "      <td>Imported</td>\n",
       "      <td>Imported</td>\n",
       "      <td>None</td>\n",
       "    </tr>\n",
       "    <tr>\n",
       "      <th>2</th>\n",
       "      <td>2zG6Mh3kwyoTvWoeKHkV1oFH</td>\n",
       "      <td>7592000</td>\n",
       "      <td>Petrol</td>\n",
       "      <td>Automatic</td>\n",
       "      <td>Acura</td>\n",
       "      <td>TL</td>\n",
       "      <td>2012</td>\n",
       "      <td>White</td>\n",
       "      <td>Foreign Used</td>\n",
       "      <td>111334.0</td>\n",
       "      <td>3500.0</td>\n",
       "      <td>Imported</td>\n",
       "      <td>Imported</td>\n",
       "      <td>None</td>\n",
       "    </tr>\n",
       "    <tr>\n",
       "      <th>3</th>\n",
       "      <td>7APLHOPlI93qsYK0ST4D4wB2</td>\n",
       "      <td>9880000</td>\n",
       "      <td>Petrol</td>\n",
       "      <td>Automatic</td>\n",
       "      <td>Land Rover</td>\n",
       "      <td>Range Rover</td>\n",
       "      <td>2012</td>\n",
       "      <td>Gray</td>\n",
       "      <td>Nigerian Used</td>\n",
       "      <td>72682.0</td>\n",
       "      <td>4000.0</td>\n",
       "      <td>Registered</td>\n",
       "      <td>Imported</td>\n",
       "      <td>None</td>\n",
       "    </tr>\n",
       "    <tr>\n",
       "      <th>4</th>\n",
       "      <td>zIrIDPJLd46eRQf9JFacc0e</td>\n",
       "      <td>4160000</td>\n",
       "      <td>Petrol</td>\n",
       "      <td>Automatic</td>\n",
       "      <td>Ford</td>\n",
       "      <td>Edge</td>\n",
       "      <td>2013</td>\n",
       "      <td>Gray</td>\n",
       "      <td>Nigerian Used</td>\n",
       "      <td>92118.0</td>\n",
       "      <td>3500.0</td>\n",
       "      <td>Registered</td>\n",
       "      <td>Registered</td>\n",
       "      <td>Lagos</td>\n",
       "    </tr>\n",
       "  </tbody>\n",
       "</table>\n",
       "</div>"
      ]
     },
     "metadata": {
      "application/vnd.databricks.v1+output": {
       "addedWidgets": {},
       "arguments": {},
       "data": "<div>\n<style scoped>\n    .dataframe tbody tr th:only-of-type {\n        vertical-align: middle;\n    }\n\n    .dataframe tbody tr th {\n        vertical-align: top;\n    }\n\n    .dataframe thead th {\n        text-align: right;\n    }\n</style>\n<table border=\"1\" class=\"dataframe\">\n  <thead>\n    <tr style=\"text-align: right;\">\n      <th></th>\n      <th>car_id</th>\n      <th>price</th>\n      <th>fuel_type</th>\n      <th>gear_type</th>\n      <th>make</th>\n      <th>model</th>\n      <th>year_manufactured</th>\n      <th>colour</th>\n      <th>condition</th>\n      <th>mileage</th>\n      <th>engine_size</th>\n      <th>selling_condition</th>\n      <th>bought_condition</th>\n      <th>registered_city</th>\n    </tr>\n  </thead>\n  <tbody>\n    <tr>\n      <th>0</th>\n      <td>icwAaDOmX573WiRRnLFPT237</td>\n      <td>2812500</td>\n      <td>Petrol</td>\n      <td>Automatic</td>\n      <td>Toyota</td>\n      <td>Corolla</td>\n      <td>2004</td>\n      <td>Silver</td>\n      <td>Nigerian Used</td>\n      <td>251732.0</td>\n      <td>1800.0</td>\n      <td>Registered</td>\n      <td>Registered</td>\n      <td>None</td>\n    </tr>\n    <tr>\n      <th>1</th>\n      <td>ByZ3NlPy2x0arAIyrKazClUS</td>\n      <td>5000000</td>\n      <td>Petrol</td>\n      <td>Automatic</td>\n      <td>Acura</td>\n      <td>MDX</td>\n      <td>2007</td>\n      <td>Green</td>\n      <td>Foreign Used</td>\n      <td>224589.0</td>\n      <td>3700.0</td>\n      <td>Imported</td>\n      <td>Imported</td>\n      <td>None</td>\n    </tr>\n    <tr>\n      <th>2</th>\n      <td>2zG6Mh3kwyoTvWoeKHkV1oFH</td>\n      <td>7592000</td>\n      <td>Petrol</td>\n      <td>Automatic</td>\n      <td>Acura</td>\n      <td>TL</td>\n      <td>2012</td>\n      <td>White</td>\n      <td>Foreign Used</td>\n      <td>111334.0</td>\n      <td>3500.0</td>\n      <td>Imported</td>\n      <td>Imported</td>\n      <td>None</td>\n    </tr>\n    <tr>\n      <th>3</th>\n      <td>7APLHOPlI93qsYK0ST4D4wB2</td>\n      <td>9880000</td>\n      <td>Petrol</td>\n      <td>Automatic</td>\n      <td>Land Rover</td>\n      <td>Range Rover</td>\n      <td>2012</td>\n      <td>Gray</td>\n      <td>Nigerian Used</td>\n      <td>72682.0</td>\n      <td>4000.0</td>\n      <td>Registered</td>\n      <td>Imported</td>\n      <td>None</td>\n    </tr>\n    <tr>\n      <th>4</th>\n      <td>zIrIDPJLd46eRQf9JFacc0e</td>\n      <td>4160000</td>\n      <td>Petrol</td>\n      <td>Automatic</td>\n      <td>Ford</td>\n      <td>Edge</td>\n      <td>2013</td>\n      <td>Gray</td>\n      <td>Nigerian Used</td>\n      <td>92118.0</td>\n      <td>3500.0</td>\n      <td>Registered</td>\n      <td>Registered</td>\n      <td>Lagos</td>\n    </tr>\n  </tbody>\n</table>\n</div>",
       "datasetInfos": [],
       "metadata": {},
       "removedWidgets": [],
       "textData": null,
       "type": "htmlSandbox"
      }
     },
     "output_type": "display_data"
    }
   ],
   "source": [
    "pd_df.head()"
   ]
  },
  {
   "cell_type": "code",
   "execution_count": 0,
   "metadata": {
    "application/vnd.databricks.v1+cell": {
     "cellMetadata": {
      "byteLimit": 2048000,
      "rowLimit": 10000
     },
     "inputWidgets": {},
     "nuid": "8da21099-ddb9-4cd4-9ffb-854bc742ff43",
     "showTitle": false,
     "title": ""
    }
   },
   "outputs": [],
   "source": [
    "#replacing null values in the mileage column with the mean of the mileage column\n",
    "from pyspark.sql.functions import mean\n",
    "\n",
    "mean_mileage = round(spark_DF_T.select(mean(spark_DF.mileage)).collect()[0][0],1)\n",
    "spark_DF_T = spark_DF_T.na.fill(value=mean_mileage,\n",
    "           subset=[\"mileage\"])\n"
   ]
  },
  {
   "cell_type": "code",
   "execution_count": 0,
   "metadata": {
    "application/vnd.databricks.v1+cell": {
     "cellMetadata": {
      "byteLimit": 2048000,
      "rowLimit": 10000
     },
     "inputWidgets": {},
     "nuid": "9e028dd6-3698-4729-9ebe-4ebd626de47d",
     "showTitle": false,
     "title": ""
    }
   },
   "outputs": [],
   "source": [
    "#Fill all the categorical columns with null values\n",
    "\n",
    "spark_DF_T2 = spark_DF_T.na.fill(\"Petrol\",[\"fuel_type\"]). \\\n",
    "    na.fill(\"Automatic\",[\"gear_type\"]). \\\n",
    "        na.fill(\"Gray\",[\"colour\"]). \\\n",
    "            na.fill(\"Unknown\",[\"registered_city\"])"
   ]
  },
  {
   "cell_type": "code",
   "execution_count": 0,
   "metadata": {
    "application/vnd.databricks.v1+cell": {
     "cellMetadata": {
      "byteLimit": 2048000,
      "rowLimit": 10000
     },
     "inputWidgets": {},
     "nuid": "ba2deb7d-976d-4910-8ab0-e43163c810fe",
     "showTitle": false,
     "title": ""
    }
   },
   "outputs": [
    {
     "output_type": "stream",
     "name": "stdout",
     "output_type": "stream",
     "text": [
      "<class 'pandas.core.frame.DataFrame'>\nRangeIndex: 3722 entries, 0 to 3721\nData columns (total 14 columns):\n #   Column             Non-Null Count  Dtype  \n---  ------             --------------  -----  \n 0   car_id             3722 non-null   object \n 1   price              3722 non-null   int32  \n 2   fuel_type          3722 non-null   object \n 3   gear_type          3722 non-null   object \n 4   make               3722 non-null   object \n 5   model              3722 non-null   object \n 6   year_manufactured  3722 non-null   int32  \n 7   colour             3722 non-null   object \n 8   condition          3722 non-null   object \n 9   mileage            3722 non-null   int32  \n 10  engine_size        3661 non-null   float64\n 11  selling_condition  3722 non-null   object \n 12  bought_condition   3722 non-null   object \n 13  registered_city    3722 non-null   object \ndtypes: float64(1), int32(3), object(10)\nmemory usage: 363.6+ KB\n"
     ]
    }
   ],
   "source": [
    "pd_df = spark_DF_T2.toPandas()\n",
    "pd_df.info()"
   ]
  },
  {
   "cell_type": "code",
   "execution_count": 0,
   "metadata": {
    "application/vnd.databricks.v1+cell": {
     "cellMetadata": {
      "byteLimit": 2048000,
      "rowLimit": 10000
     },
     "inputWidgets": {},
     "nuid": "dee593f5-a27b-40c0-a89c-407412a1e6a8",
     "showTitle": false,
     "title": ""
    }
   },
   "outputs": [],
   "source": [
    "#Replacing Null values in engine size column with the mode\n",
    "from pyspark.sql.functions import mode\n",
    "\n",
    "engine_size_mode = spark_DF_T2.select(mode(spark_DF_T2.engine_size)).collect()[0][0]\n",
    "spark_cleaned_DF = spark_DF_T2.na.fill(value=engine_size_mode,\n",
    "           subset=[\"engine_size\"])"
   ]
  },
  {
   "cell_type": "code",
   "execution_count": 0,
   "metadata": {
    "application/vnd.databricks.v1+cell": {
     "cellMetadata": {
      "byteLimit": 2048000,
      "rowLimit": 10000
     },
     "inputWidgets": {},
     "nuid": "25f13b64-8721-4d63-b45d-6c37680f2090",
     "showTitle": false,
     "title": ""
    }
   },
   "outputs": [
    {
     "output_type": "stream",
     "name": "stdout",
     "output_type": "stream",
     "text": [
      "Out[43]: car_id               0\nprice                0\nfuel_type            0\ngear_type            0\nmake                 0\nmodel                0\nyear_manufactured    0\ncolour               0\ncondition            0\nmileage              0\nengine_size          0\nselling_condition    0\nbought_condition     0\nregistered_city      0\ndtype: int64"
     ]
    }
   ],
   "source": [
    "#Checking to see if there any null values left in our dataframe\n",
    "pd_df = spark_cleaned_DF.toPandas()\n",
    "pd_df.isnull().sum()"
   ]
  },
  {
   "cell_type": "code",
   "execution_count": 0,
   "metadata": {
    "application/vnd.databricks.v1+cell": {
     "cellMetadata": {
      "byteLimit": 2048000,
      "rowLimit": 10000
     },
     "inputWidgets": {},
     "nuid": "fe50220c-0377-45a8-add1-693dbd90eb42",
     "showTitle": false,
     "title": ""
    }
   },
   "outputs": [
    {
     "output_type": "stream",
     "name": "stdout",
     "output_type": "stream",
     "text": [
      "+--------------------+-------+---------+---------+----------+-----------+-----------------+------+-------------+-------+-----------+-----------------+----------------+---------------+\n|              car_id|  price|fuel_type|gear_type|      make|      model|year_manufactured|colour|    condition|mileage|engine_size|selling_condition|bought_condition|registered_city|\n+--------------------+-------+---------+---------+----------+-----------+-----------------+------+-------------+-------+-----------+-----------------+----------------+---------------+\n|icwAaDOmX573WiRRn...|2812500|   Petrol|Automatic|    Toyota|    Corolla|             2004|Silver|Nigerian Used| 251732|       1800|       Registered|      Registered|        Unknown|\n|ByZ3NlPy2x0arAIyr...|5000000|   Petrol|Automatic|     Acura|        MDX|             2007| Green| Foreign Used| 224589|       3700|         Imported|        Imported|        Unknown|\n|2zG6Mh3kwyoTvWoeK...|7592000|   Petrol|Automatic|     Acura|         TL|             2012| White| Foreign Used| 111334|       3500|         Imported|        Imported|        Unknown|\n|7APLHOPlI93qsYK0S...|9880000|   Petrol|Automatic|Land Rover|Range Rover|             2012|  Gray|Nigerian Used|  72682|       4000|       Registered|        Imported|        Unknown|\n|zIrIDPJLd46eRQf9J...|4160000|   Petrol|Automatic|      Ford|       Edge|             2013|  Gray|Nigerian Used|  92118|       3500|       Registered|      Registered|          Lagos|\n+--------------------+-------+---------+---------+----------+-----------+-----------------+------+-------------+-------+-----------+-----------------+----------------+---------------+\nonly showing top 5 rows\n\n"
     ]
    }
   ],
   "source": [
    "spark_cleaned_DF.show(5)"
   ]
  },
  {
   "cell_type": "markdown",
   "metadata": {
    "application/vnd.databricks.v1+cell": {
     "cellMetadata": {},
     "inputWidgets": {},
     "nuid": "24656997-672b-4b20-8d0f-ad11cff1ce7c",
     "showTitle": false,
     "title": ""
    }
   },
   "source": [
    "## Moving the Transformed Data to the Silver level in Delta format"
   ]
  },
  {
   "cell_type": "code",
   "execution_count": 0,
   "metadata": {
    "application/vnd.databricks.v1+cell": {
     "cellMetadata": {
      "byteLimit": 2048000,
      "rowLimit": 10000
     },
     "inputWidgets": {},
     "nuid": "158414ce-6ae5-4b54-8fcb-e63599497c80",
     "showTitle": false,
     "title": ""
    }
   },
   "outputs": [],
   "source": [
    "output_path = \"/mnt/silver/etl/car_price/\"\n",
    "spark_cleaned_DF.write.format('delta').mode(\"overwrite\").save(output_path)"
   ]
  },
  {
   "cell_type": "code",
   "execution_count": 0,
   "metadata": {
    "application/vnd.databricks.v1+cell": {
     "cellMetadata": {
      "byteLimit": 2048000,
      "rowLimit": 10000
     },
     "inputWidgets": {},
     "nuid": "9ba322f5-c8cc-4a12-b22a-337388ae1925",
     "showTitle": false,
     "title": ""
    }
   },
   "outputs": [],
   "source": []
  },
  {
   "cell_type": "code",
   "execution_count": 0,
   "metadata": {
    "application/vnd.databricks.v1+cell": {
     "cellMetadata": {},
     "inputWidgets": {},
     "nuid": "f8987284-3237-4150-9b5d-e46792ddf029",
     "showTitle": false,
     "title": ""
    }
   },
   "outputs": [],
   "source": []
  }
 ],
 "metadata": {
  "application/vnd.databricks.v1+notebook": {
   "dashboards": [],
   "language": "python",
   "notebookMetadata": {
    "mostRecentlyExecutedCommandWithImplicitDF": {
     "commandId": -1,
     "dataframes": [
      "_sqldf"
     ]
    },
    "pythonIndentUnit": 4
   },
   "notebookName": "Bronze-Silver_Transformation",
   "widgets": {}
  }
 },
 "nbformat": 4,
 "nbformat_minor": 0
}
